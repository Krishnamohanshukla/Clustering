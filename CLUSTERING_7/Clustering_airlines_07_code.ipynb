{
  "nbformat": 4,
  "nbformat_minor": 0,
  "metadata": {
    "colab": {
      "provenance": []
    },
    "kernelspec": {
      "name": "python3",
      "display_name": "Python 3"
    },
    "language_info": {
      "name": "python"
    }
  },
  "cells": [
    {
      "cell_type": "markdown",
      "source": [
        "#Airline"
      ],
      "metadata": {
        "id": "jywn-tY2-3U0"
      }
    },
    {
      "cell_type": "markdown",
      "source": [
        "Assignments 7 recheck"
      ],
      "metadata": {
        "id": "1X-gSmc5GjS_"
      }
    },
    {
      "cell_type": "code",
      "source": [
        "import pandas as pd\n",
        "import numpy as np\n",
        "import matplotlib.pyplot as plt\n",
        "from sklearn.cluster import AgglomerativeClustering,KMeans, DBSCAN\n",
        "from sklearn.preprocessing import StandardScaler\n",
        "import seaborn as sns"
      ],
      "metadata": {
        "id": "Slf0nIik_Vl1"
      },
      "execution_count": null,
      "outputs": []
    },
    {
      "cell_type": "code",
      "source": [
        "from google.colab import files\n",
        "uploaded=files.upload()"
      ],
      "metadata": {
        "colab": {
          "base_uri": "https://localhost:8080/",
          "height": 90
        },
        "id": "pDF1gMEn_aZz",
        "outputId": "e29ff754-1aae-422d-ce18-272dfa7bc843"
      },
      "execution_count": 44,
      "outputs": [
        {
          "output_type": "display_data",
          "data": {
            "text/plain": [
              "<IPython.core.display.HTML object>"
            ],
            "text/html": [
              "\n",
              "     <input type=\"file\" id=\"files-d83288e9-d5a9-4262-bffe-df99132fb9aa\" name=\"files[]\" multiple disabled\n",
              "        style=\"border:none\" />\n",
              "     <output id=\"result-d83288e9-d5a9-4262-bffe-df99132fb9aa\">\n",
              "      Upload widget is only available when the cell has been executed in the\n",
              "      current browser session. Please rerun this cell to enable.\n",
              "      </output>\n",
              "      <script>// Copyright 2017 Google LLC\n",
              "//\n",
              "// Licensed under the Apache License, Version 2.0 (the \"License\");\n",
              "// you may not use this file except in compliance with the License.\n",
              "// You may obtain a copy of the License at\n",
              "//\n",
              "//      http://www.apache.org/licenses/LICENSE-2.0\n",
              "//\n",
              "// Unless required by applicable law or agreed to in writing, software\n",
              "// distributed under the License is distributed on an \"AS IS\" BASIS,\n",
              "// WITHOUT WARRANTIES OR CONDITIONS OF ANY KIND, either express or implied.\n",
              "// See the License for the specific language governing permissions and\n",
              "// limitations under the License.\n",
              "\n",
              "/**\n",
              " * @fileoverview Helpers for google.colab Python module.\n",
              " */\n",
              "(function(scope) {\n",
              "function span(text, styleAttributes = {}) {\n",
              "  const element = document.createElement('span');\n",
              "  element.textContent = text;\n",
              "  for (const key of Object.keys(styleAttributes)) {\n",
              "    element.style[key] = styleAttributes[key];\n",
              "  }\n",
              "  return element;\n",
              "}\n",
              "\n",
              "// Max number of bytes which will be uploaded at a time.\n",
              "const MAX_PAYLOAD_SIZE = 100 * 1024;\n",
              "\n",
              "function _uploadFiles(inputId, outputId) {\n",
              "  const steps = uploadFilesStep(inputId, outputId);\n",
              "  const outputElement = document.getElementById(outputId);\n",
              "  // Cache steps on the outputElement to make it available for the next call\n",
              "  // to uploadFilesContinue from Python.\n",
              "  outputElement.steps = steps;\n",
              "\n",
              "  return _uploadFilesContinue(outputId);\n",
              "}\n",
              "\n",
              "// This is roughly an async generator (not supported in the browser yet),\n",
              "// where there are multiple asynchronous steps and the Python side is going\n",
              "// to poll for completion of each step.\n",
              "// This uses a Promise to block the python side on completion of each step,\n",
              "// then passes the result of the previous step as the input to the next step.\n",
              "function _uploadFilesContinue(outputId) {\n",
              "  const outputElement = document.getElementById(outputId);\n",
              "  const steps = outputElement.steps;\n",
              "\n",
              "  const next = steps.next(outputElement.lastPromiseValue);\n",
              "  return Promise.resolve(next.value.promise).then((value) => {\n",
              "    // Cache the last promise value to make it available to the next\n",
              "    // step of the generator.\n",
              "    outputElement.lastPromiseValue = value;\n",
              "    return next.value.response;\n",
              "  });\n",
              "}\n",
              "\n",
              "/**\n",
              " * Generator function which is called between each async step of the upload\n",
              " * process.\n",
              " * @param {string} inputId Element ID of the input file picker element.\n",
              " * @param {string} outputId Element ID of the output display.\n",
              " * @return {!Iterable<!Object>} Iterable of next steps.\n",
              " */\n",
              "function* uploadFilesStep(inputId, outputId) {\n",
              "  const inputElement = document.getElementById(inputId);\n",
              "  inputElement.disabled = false;\n",
              "\n",
              "  const outputElement = document.getElementById(outputId);\n",
              "  outputElement.innerHTML = '';\n",
              "\n",
              "  const pickedPromise = new Promise((resolve) => {\n",
              "    inputElement.addEventListener('change', (e) => {\n",
              "      resolve(e.target.files);\n",
              "    });\n",
              "  });\n",
              "\n",
              "  const cancel = document.createElement('button');\n",
              "  inputElement.parentElement.appendChild(cancel);\n",
              "  cancel.textContent = 'Cancel upload';\n",
              "  const cancelPromise = new Promise((resolve) => {\n",
              "    cancel.onclick = () => {\n",
              "      resolve(null);\n",
              "    };\n",
              "  });\n",
              "\n",
              "  // Wait for the user to pick the files.\n",
              "  const files = yield {\n",
              "    promise: Promise.race([pickedPromise, cancelPromise]),\n",
              "    response: {\n",
              "      action: 'starting',\n",
              "    }\n",
              "  };\n",
              "\n",
              "  cancel.remove();\n",
              "\n",
              "  // Disable the input element since further picks are not allowed.\n",
              "  inputElement.disabled = true;\n",
              "\n",
              "  if (!files) {\n",
              "    return {\n",
              "      response: {\n",
              "        action: 'complete',\n",
              "      }\n",
              "    };\n",
              "  }\n",
              "\n",
              "  for (const file of files) {\n",
              "    const li = document.createElement('li');\n",
              "    li.append(span(file.name, {fontWeight: 'bold'}));\n",
              "    li.append(span(\n",
              "        `(${file.type || 'n/a'}) - ${file.size} bytes, ` +\n",
              "        `last modified: ${\n",
              "            file.lastModifiedDate ? file.lastModifiedDate.toLocaleDateString() :\n",
              "                                    'n/a'} - `));\n",
              "    const percent = span('0% done');\n",
              "    li.appendChild(percent);\n",
              "\n",
              "    outputElement.appendChild(li);\n",
              "\n",
              "    const fileDataPromise = new Promise((resolve) => {\n",
              "      const reader = new FileReader();\n",
              "      reader.onload = (e) => {\n",
              "        resolve(e.target.result);\n",
              "      };\n",
              "      reader.readAsArrayBuffer(file);\n",
              "    });\n",
              "    // Wait for the data to be ready.\n",
              "    let fileData = yield {\n",
              "      promise: fileDataPromise,\n",
              "      response: {\n",
              "        action: 'continue',\n",
              "      }\n",
              "    };\n",
              "\n",
              "    // Use a chunked sending to avoid message size limits. See b/62115660.\n",
              "    let position = 0;\n",
              "    do {\n",
              "      const length = Math.min(fileData.byteLength - position, MAX_PAYLOAD_SIZE);\n",
              "      const chunk = new Uint8Array(fileData, position, length);\n",
              "      position += length;\n",
              "\n",
              "      const base64 = btoa(String.fromCharCode.apply(null, chunk));\n",
              "      yield {\n",
              "        response: {\n",
              "          action: 'append',\n",
              "          file: file.name,\n",
              "          data: base64,\n",
              "        },\n",
              "      };\n",
              "\n",
              "      let percentDone = fileData.byteLength === 0 ?\n",
              "          100 :\n",
              "          Math.round((position / fileData.byteLength) * 100);\n",
              "      percent.textContent = `${percentDone}% done`;\n",
              "\n",
              "    } while (position < fileData.byteLength);\n",
              "  }\n",
              "\n",
              "  // All done.\n",
              "  yield {\n",
              "    response: {\n",
              "      action: 'complete',\n",
              "    }\n",
              "  };\n",
              "}\n",
              "\n",
              "scope.google = scope.google || {};\n",
              "scope.google.colab = scope.google.colab || {};\n",
              "scope.google.colab._files = {\n",
              "  _uploadFiles,\n",
              "  _uploadFilesContinue,\n",
              "};\n",
              "})(self);\n",
              "</script> "
            ]
          },
          "metadata": {}
        },
        {
          "output_type": "stream",
          "name": "stdout",
          "text": [
            "Saving EastWestAirlines (1).xlsx to EastWestAirlines (1) (3).xlsx\n"
          ]
        }
      ]
    },
    {
      "cell_type": "code",
      "source": [
        "#df = pd.read_csv(\"EastWestAirlines (1).xls\",encoding='latin-1')\n",
        "import openpyxl\n",
        "\n",
        "# Loading the Excel file\n",
        "wb = openpyxl.load_workbook('EastWestAirlines (1).xlsx')\n",
        "\n",
        "# Getting the first sheet in the workbook\n",
        "sheet = wb.worksheets[0]\n",
        "\n",
        "# Read the data from the sheet\n",
        "data = []\n",
        "for row in sheet.rows:\n",
        "    data.append([cell.value for cell in row][0:6])\n"
      ],
      "metadata": {
        "id": "S3zI6AlY_jPo"
      },
      "execution_count": 119,
      "outputs": []
    },
    {
      "cell_type": "code",
      "source": [
        "print(len(data[0]))"
      ],
      "metadata": {
        "colab": {
          "base_uri": "https://localhost:8080/"
        },
        "id": "POlZND3Hzfjm",
        "outputId": "bc3564e7-6a62-4b14-9f5c-435fe6e8510b"
      },
      "execution_count": 120,
      "outputs": [
        {
          "output_type": "stream",
          "name": "stdout",
          "text": [
            "5\n"
          ]
        }
      ]
    },
    {
      "cell_type": "code",
      "source": [
        "#adding the row\n",
        "data = [[[[]]]+row for row in data]"
      ],
      "metadata": {
        "id": "NqxFuNEHzmDY"
      },
      "execution_count": 146,
      "outputs": []
    },
    {
      "cell_type": "code",
      "source": [
        "# Convert the data to a Pandas DataFrame\n",
        "df = pd.DataFrame(data, columns=['ID', 'Balance', 'Qual_mile', 'cc1_miles', 'cc2_miles', 'cc3_miles','Award?'])"
      ],
      "metadata": {
        "id": "p6zXQSR_yD1q"
      },
      "execution_count": 147,
      "outputs": []
    },
    {
      "cell_type": "code",
      "source": [],
      "metadata": {
        "id": "WfdjcCCkyDyK"
      },
      "execution_count": 122,
      "outputs": []
    },
    {
      "cell_type": "code",
      "source": [
        "df.info()"
      ],
      "metadata": {
        "id": "3raLfuQj_tLK",
        "colab": {
          "base_uri": "https://localhost:8080/"
        },
        "outputId": "fe32bc2d-2797-44ab-f437-9eca5f451743"
      },
      "execution_count": 123,
      "outputs": [
        {
          "output_type": "stream",
          "name": "stdout",
          "text": [
            "<class 'pandas.core.frame.DataFrame'>\n",
            "RangeIndex: 27 entries, 0 to 26\n",
            "Data columns (total 6 columns):\n",
            " #   Column     Non-Null Count  Dtype \n",
            "---  ------     --------------  ----- \n",
            " 0   ID         27 non-null     object\n",
            " 1   Balance    19 non-null     object\n",
            " 2   Qual_mile  13 non-null     object\n",
            " 3   cc1_miles  6 non-null      object\n",
            " 4   cc2_miles  13 non-null     object\n",
            " 5   cc3_miles  18 non-null     object\n",
            "dtypes: object(6)\n",
            "memory usage: 1.4+ KB\n"
          ]
        }
      ]
    },
    {
      "cell_type": "code",
      "source": [
        "print(df.columns.tolist())"
      ],
      "metadata": {
        "colab": {
          "base_uri": "https://localhost:8080/"
        },
        "id": "rdFv6ZhWwhPY",
        "outputId": "1f70647a-9c4f-4e50-c0e6-5f8adaeed33b"
      },
      "execution_count": 124,
      "outputs": [
        {
          "output_type": "stream",
          "name": "stdout",
          "text": [
            "['ID', 'Balance', 'Qual_mile', 'cc1_miles', 'cc2_miles', 'cc3_miles']\n"
          ]
        }
      ]
    },
    {
      "cell_type": "code",
      "source": [],
      "metadata": {
        "id": "OKpUjitXwq4j"
      },
      "execution_count": 124,
      "outputs": []
    },
    {
      "cell_type": "code",
      "source": [
        "# Preprocess the data\n",
        "df['cc1_miles'] = df['cc1_miles'].astype('category')\n",
        "df['cc2_miles'] = df['cc2_miles'].astype('category')\n",
        "df['cc3_miles'] = df['cc3_miles'].astype('category')\n",
        "df = pd.get_dummies(df, columns=['cc1_miles', 'cc2_miles', 'cc3_miles'])"
      ],
      "metadata": {
        "id": "ntxTTAwvAGI4"
      },
      "execution_count": 125,
      "outputs": []
    },
    {
      "cell_type": "code",
      "source": [],
      "metadata": {
        "id": "spxKovbM1SXQ"
      },
      "execution_count": 125,
      "outputs": []
    },
    {
      "cell_type": "code",
      "source": [
        "from sklearn.preprocessing import StandardScaler\n",
        "\n",
        "# # Normalize the data\n",
        "scaler = StandardScaler()\n",
        "\n",
        "# Select only numeric columns from the DataFrame\n",
        "numeric_columns = df.select_dtypes(include=[np.number])\n",
        "\n",
        "# Fit and transform the selected numeric columns\n",
        "df_scaled = scaler.fit_transform(numeric_columns)\n",
        "\n",
        "# Convert the scaled values back to a DataFrame\n",
        "df_scaled = pd.DataFrame(df_scaled, columns=numeric_columns.columns)"
      ],
      "metadata": {
        "id": "4fyN06qO1-yo"
      },
      "execution_count": 126,
      "outputs": []
    },
    {
      "cell_type": "code",
      "source": [
        "# Perform hierarchical clustering\n",
        "hc = AgglomerativeClustering(n_clusters=4, affinity='euclidean', linkage='ward')\n",
        "hc_labels = hc.fit_predict(df_scaled)"
      ],
      "metadata": {
        "id": "MJdGx8WlBUdq",
        "colab": {
          "base_uri": "https://localhost:8080/"
        },
        "outputId": "0f7393b0-ad45-4181-98cb-74aafe18aedb"
      },
      "execution_count": 127,
      "outputs": [
        {
          "output_type": "stream",
          "name": "stderr",
          "text": [
            "/usr/local/lib/python3.10/dist-packages/sklearn/cluster/_agglomerative.py:983: FutureWarning: Attribute `affinity` was deprecated in version 1.2 and will be removed in 1.4. Use `metric` instead\n",
            "  warnings.warn(\n"
          ]
        }
      ]
    },
    {
      "cell_type": "code",
      "source": [
        "# Perform K-means clustering\n",
        "km = KMeans(n_clusters=4, init='k-means++', max_iter=300, n_init=10, random_state=42)\n",
        "km_labels = km.fit_predict(df_scaled)"
      ],
      "metadata": {
        "id": "DmWa1dCtBWzR"
      },
      "execution_count": 128,
      "outputs": []
    },
    {
      "cell_type": "code",
      "source": [
        "# Perform DBSCAN clustering\n",
        "db = DBSCAN(eps=0.5, min_samples=5)\n",
        "db_labels = db.fit_predict(df_scaled)"
      ],
      "metadata": {
        "id": "6b-M4nlnBY4V"
      },
      "execution_count": 129,
      "outputs": []
    },
    {
      "cell_type": "code",
      "source": [
        "# Visualize the clustering results\n",
        "plt.figure(figsize=(12, 6))\n",
        "\n",
        "plt.subplot(1, 3, 1)\n",
        "plt.scatter(df_scaled.iloc[:, 0], df_scaled.iloc[:, 1], c=hc_labels)\n",
        "plt.title('Hierarchical Clustering')\n",
        "\n",
        "plt.subplot(1, 3, 2)\n",
        "plt.scatter(df_scaled.iloc[:, 0], df_scaled.iloc[:, 1], c=km_labels)\n",
        "plt.title('K-Means Clustering')\n",
        "\n",
        "plt.subplot(1, 3, 3)\n",
        "plt.scatter(df_scaled.iloc[:, 0], df_scaled.iloc[:, 1], c=db_labels)\n",
        "plt.title('DBSCAN Clustering')\n",
        "plt.show()"
      ],
      "metadata": {
        "id": "a9Unw7AbBajT",
        "colab": {
          "base_uri": "https://localhost:8080/",
          "height": 466
        },
        "outputId": "6b544fa7-abd6-4afe-c57f-5ce7b2607ac2"
      },
      "execution_count": 151,
      "outputs": [
        {
          "output_type": "display_data",
          "data": {
            "text/plain": [
              "<Figure size 1200x600 with 3 Axes>"
            ],
            "image/png": "[encoded data removed]"
          },
          "metadata": {}
        }
      ]
    },
    {
      "cell_type": "code",
      "source": [
        "# Print the cluster labels\n",
        "print('Hierarchical Clustering Labels:', hc_labels)\n",
        "print('K-Means Clustering Labels:', km_labels)\n",
        "print('DBSCAN Clustering Labels:', db_labels)"
      ],
      "metadata": {
        "id": "hmBL2yTKjMfY",
        "colab": {
          "base_uri": "https://localhost:8080/"
        },
        "outputId": "0e9765ef-d0c8-4776-9f65-0b3a49f771d4"
      },
      "execution_count": 137,
      "outputs": [
        {
          "output_type": "stream",
          "name": "stdout",
          "text": [
            "Hierarchical Clustering Labels: [0 0 0 0 0 0 0 0 0 3 0 2 2 1 1 1 0 0 0 0 0 0 0 0 0 0 0]\n",
            "K-Means Clustering Labels: [2 2 2 2 2 2 2 2 2 3 1 0 0 0 0 0 2 2 2 2 2 0 0 0 0 1 1]\n",
            "DBSCAN Clustering Labels: [ 0  0  0  0  0  0  0  0  0 -1 -1 -1 -1 -1 -1 -1 -1 -1 -1 -1 -1 -1 -1 -1\n",
            " -1 -1 -1]\n"
          ]
        }
      ]
    },
    {
      "cell_type": "code",
      "source": [
        "# Draw inferences from the clusters\n",
        "# Cluster 1: Passengers with high mileage history and high levels of activity\n",
        "cluster1_df = df[hc_labels == 0]\n",
        "print('\\nCluster 1:')\n",
        "print(cluster1_df.describe())"
      ],
      "metadata": {
        "id": "EmoAF_3DjMd7",
        "colab": {
          "base_uri": "https://localhost:8080/"
        },
        "outputId": "e65565bc-0b0e-4117-c48f-7c613cdf984a"
      },
      "execution_count": 138,
      "outputs": [
        {
          "output_type": "stream",
          "name": "stdout",
          "text": [
            "\n",
            "Cluster 1:\n",
            "       cc1_miles_1  cc1_miles_8  cc1_miles_Max Data Length  cc2_miles_Raw  \\\n",
            "count         21.0         21.0                       21.0      21.000000   \n",
            "mean           0.0          0.0                        0.0       0.190476   \n",
            "std            0.0          0.0                        0.0       0.402374   \n",
            "min            0.0          0.0                        0.0       0.000000   \n",
            "25%            0.0          0.0                        0.0       0.000000   \n",
            "50%            0.0          0.0                        0.0       0.000000   \n",
            "75%            0.0          0.0                        0.0       0.000000   \n",
            "max            0.0          0.0                        0.0       1.000000   \n",
            "\n",
            "       cc2_miles_Raw Data or Telcom Created Field?  cc2_miles_Telcom  \\\n",
            "count                                         21.0         21.000000   \n",
            "mean                                           0.0          0.142857   \n",
            "std                                            0.0          0.358569   \n",
            "min                                            0.0          0.000000   \n",
            "25%                                            0.0          0.000000   \n",
            "50%                                            0.0          0.000000   \n",
            "75%                                            0.0          0.000000   \n",
            "max                                            0.0          1.000000   \n",
            "\n",
            "       cc3_miles_1 = under 5,000  cc3_miles_2 = 5,000 - 10,000  \\\n",
            "count                  21.000000                     21.000000   \n",
            "mean                    0.047619                      0.047619   \n",
            "std                     0.218218                      0.218218   \n",
            "min                     0.000000                      0.000000   \n",
            "25%                     0.000000                      0.000000   \n",
            "50%                     0.000000                      0.000000   \n",
            "75%                     0.000000                      0.000000   \n",
            "max                     1.000000                      1.000000   \n",
            "\n",
            "       cc3_miles_3 = 10,001 - 25,000  cc3_miles_4 = 25,001 - 50,000  ...  \\\n",
            "count                      21.000000                      21.000000  ...   \n",
            "mean                        0.047619                       0.047619  ...   \n",
            "std                         0.218218                       0.218218  ...   \n",
            "min                         0.000000                       0.000000  ...   \n",
            "25%                         0.000000                       0.000000  ...   \n",
            "50%                         0.000000                       0.000000  ...   \n",
            "75%                         0.000000                       0.000000  ...   \n",
            "max                         1.000000                       1.000000  ...   \n",
            "\n",
            "       cc3_miles_Number of flight miles in the past 12 months  \\\n",
            "count                                          21.000000        \n",
            "mean                                            0.047619        \n",
            "std                                             0.218218        \n",
            "min                                             0.000000        \n",
            "25%                                             0.000000        \n",
            "50%                                             0.000000        \n",
            "75%                                             0.000000        \n",
            "max                                             1.000000        \n",
            "\n",
            "       cc3_miles_Number of flight transactions in the past 12 months  \\\n",
            "count                                          21.000000               \n",
            "mean                                            0.047619               \n",
            "std                                             0.218218               \n",
            "min                                             0.000000               \n",
            "25%                                             0.000000               \n",
            "50%                                             0.000000               \n",
            "75%                                             0.000000               \n",
            "max                                             1.000000               \n",
            "\n",
            "       cc3_miles_Number of miles counted as qualifying for Topflight status  \\\n",
            "count                                               21.0                      \n",
            "mean                                                 0.0                      \n",
            "std                                                  0.0                      \n",
            "min                                                  0.0                      \n",
            "25%                                                  0.0                      \n",
            "50%                                                  0.0                      \n",
            "75%                                                  0.0                      \n",
            "max                                                  0.0                      \n",
            "\n",
            "       cc3_miles_Number of miles earned from non-flight bonus transactions in the past 12 months  \\\n",
            "count                                          21.000000                                           \n",
            "mean                                            0.047619                                           \n",
            "std                                             0.218218                                           \n",
            "min                                             0.000000                                           \n",
            "25%                                             0.000000                                           \n",
            "50%                                             0.000000                                           \n",
            "75%                                             0.000000                                           \n",
            "max                                             1.000000                                           \n",
            "\n",
            "       cc3_miles_Number of miles earned with Rewards credit card in the past 12 months:  \\\n",
            "count                                               21.0                                  \n",
            "mean                                                 0.0                                  \n",
            "std                                                  0.0                                  \n",
            "min                                                  0.0                                  \n",
            "25%                                                  0.0                                  \n",
            "50%                                                  0.0                                  \n",
            "75%                                                  0.0                                  \n",
            "max                                                  0.0                                  \n",
            "\n",
            "       cc3_miles_Number of miles earned with Small Business credit card in the past 12 months:  \\\n",
            "count                                               21.0                                         \n",
            "mean                                                 0.0                                         \n",
            "std                                                  0.0                                         \n",
            "min                                                  0.0                                         \n",
            "25%                                                  0.0                                         \n",
            "50%                                                  0.0                                         \n",
            "75%                                                  0.0                                         \n",
            "max                                                  0.0                                         \n",
            "\n",
            "       cc3_miles_Number of miles earned with freq. flyer credit card in the past 12 months:  \\\n",
            "count                                               21.0                                      \n",
            "mean                                                 0.0                                      \n",
            "std                                                  0.0                                      \n",
            "min                                                  0.0                                      \n",
            "25%                                                  0.0                                      \n",
            "50%                                                  0.0                                      \n",
            "75%                                                  0.0                                      \n",
            "max                                                  0.0                                      \n",
            "\n",
            "       cc3_miles_Number of miles eligible for award travel  \\\n",
            "count                                               21.0     \n",
            "mean                                                 0.0     \n",
            "std                                                  0.0     \n",
            "min                                                  0.0     \n",
            "25%                                                  0.0     \n",
            "50%                                                  0.0     \n",
            "75%                                                  0.0     \n",
            "max                                                  0.0     \n",
            "\n",
            "       cc3_miles_Number of non-flight bonus transactions in the past 12 months  \\\n",
            "count                                          21.000000                         \n",
            "mean                                            0.047619                         \n",
            "std                                             0.218218                         \n",
            "min                                             0.000000                         \n",
            "25%                                             0.000000                         \n",
            "50%                                             0.000000                         \n",
            "75%                                             0.000000                         \n",
            "max                                             1.000000                         \n",
            "\n",
            "       cc3_miles_Unique ID  \n",
            "count            21.000000  \n",
            "mean              0.047619  \n",
            "std               0.218218  \n",
            "min               0.000000  \n",
            "25%               0.000000  \n",
            "50%               0.000000  \n",
            "75%               0.000000  \n",
            "max               1.000000  \n",
            "\n",
            "[8 rows x 24 columns]\n"
          ]
        }
      ]
    },
    {
      "cell_type": "code",
      "source": [
        "# Cluster 2: Passengers with moderate mileage history and activity levels\n",
        "cluster2_df = df[hc_labels == 1]\n",
        "print('\\nCluster 2:')\n",
        "print(cluster2_df.describe())"
      ],
      "metadata": {
        "id": "7bMucuRrjMbW",
        "colab": {
          "base_uri": "https://localhost:8080/"
        },
        "outputId": "0266c8dd-c83c-48ec-e988-f6157d63a3e0"
      },
      "execution_count": 139,
      "outputs": [
        {
          "output_type": "stream",
          "name": "stdout",
          "text": [
            "\n",
            "Cluster 2:\n",
            "       cc1_miles_1  cc1_miles_8  cc1_miles_Max Data Length  cc2_miles_Raw  \\\n",
            "count          3.0          3.0                        3.0            3.0   \n",
            "mean           1.0          0.0                        0.0            1.0   \n",
            "std            0.0          0.0                        0.0            0.0   \n",
            "min            1.0          0.0                        0.0            1.0   \n",
            "25%            1.0          0.0                        0.0            1.0   \n",
            "50%            1.0          0.0                        0.0            1.0   \n",
            "75%            1.0          0.0                        0.0            1.0   \n",
            "max            1.0          0.0                        0.0            1.0   \n",
            "\n",
            "       cc2_miles_Raw Data or Telcom Created Field?  cc2_miles_Telcom  \\\n",
            "count                                          3.0               3.0   \n",
            "mean                                           0.0               0.0   \n",
            "std                                            0.0               0.0   \n",
            "min                                            0.0               0.0   \n",
            "25%                                            0.0               0.0   \n",
            "50%                                            0.0               0.0   \n",
            "75%                                            0.0               0.0   \n",
            "max                                            0.0               0.0   \n",
            "\n",
            "       cc3_miles_1 = under 5,000  cc3_miles_2 = 5,000 - 10,000  \\\n",
            "count                        3.0                           3.0   \n",
            "mean                         0.0                           0.0   \n",
            "std                          0.0                           0.0   \n",
            "min                          0.0                           0.0   \n",
            "25%                          0.0                           0.0   \n",
            "50%                          0.0                           0.0   \n",
            "75%                          0.0                           0.0   \n",
            "max                          0.0                           0.0   \n",
            "\n",
            "       cc3_miles_3 = 10,001 - 25,000  cc3_miles_4 = 25,001 - 50,000  ...  \\\n",
            "count                            3.0                            3.0  ...   \n",
            "mean                             0.0                            0.0  ...   \n",
            "std                              0.0                            0.0  ...   \n",
            "min                              0.0                            0.0  ...   \n",
            "25%                              0.0                            0.0  ...   \n",
            "50%                              0.0                            0.0  ...   \n",
            "75%                              0.0                            0.0  ...   \n",
            "max                              0.0                            0.0  ...   \n",
            "\n",
            "       cc3_miles_Number of flight miles in the past 12 months  \\\n",
            "count                                                3.0        \n",
            "mean                                                 0.0        \n",
            "std                                                  0.0        \n",
            "min                                                  0.0        \n",
            "25%                                                  0.0        \n",
            "50%                                                  0.0        \n",
            "75%                                                  0.0        \n",
            "max                                                  0.0        \n",
            "\n",
            "       cc3_miles_Number of flight transactions in the past 12 months  \\\n",
            "count                                                3.0               \n",
            "mean                                                 0.0               \n",
            "std                                                  0.0               \n",
            "min                                                  0.0               \n",
            "25%                                                  0.0               \n",
            "50%                                                  0.0               \n",
            "75%                                                  0.0               \n",
            "max                                                  0.0               \n",
            "\n",
            "       cc3_miles_Number of miles counted as qualifying for Topflight status  \\\n",
            "count                                                3.0                      \n",
            "mean                                                 0.0                      \n",
            "std                                                  0.0                      \n",
            "min                                                  0.0                      \n",
            "25%                                                  0.0                      \n",
            "50%                                                  0.0                      \n",
            "75%                                                  0.0                      \n",
            "max                                                  0.0                      \n",
            "\n",
            "       cc3_miles_Number of miles earned from non-flight bonus transactions in the past 12 months  \\\n",
            "count                                                3.0                                           \n",
            "mean                                                 0.0                                           \n",
            "std                                                  0.0                                           \n",
            "min                                                  0.0                                           \n",
            "25%                                                  0.0                                           \n",
            "50%                                                  0.0                                           \n",
            "75%                                                  0.0                                           \n",
            "max                                                  0.0                                           \n",
            "\n",
            "       cc3_miles_Number of miles earned with Rewards credit card in the past 12 months:  \\\n",
            "count                                           3.000000                                  \n",
            "mean                                            0.333333                                  \n",
            "std                                             0.577350                                  \n",
            "min                                             0.000000                                  \n",
            "25%                                             0.000000                                  \n",
            "50%                                             0.000000                                  \n",
            "75%                                             0.500000                                  \n",
            "max                                             1.000000                                  \n",
            "\n",
            "       cc3_miles_Number of miles earned with Small Business credit card in the past 12 months:  \\\n",
            "count                                           3.000000                                         \n",
            "mean                                            0.333333                                         \n",
            "std                                             0.577350                                         \n",
            "min                                             0.000000                                         \n",
            "25%                                             0.000000                                         \n",
            "50%                                             0.000000                                         \n",
            "75%                                             0.500000                                         \n",
            "max                                             1.000000                                         \n",
            "\n",
            "       cc3_miles_Number of miles earned with freq. flyer credit card in the past 12 months:  \\\n",
            "count                                           3.000000                                      \n",
            "mean                                            0.333333                                      \n",
            "std                                             0.577350                                      \n",
            "min                                             0.000000                                      \n",
            "25%                                             0.000000                                      \n",
            "50%                                             0.000000                                      \n",
            "75%                                             0.500000                                      \n",
            "max                                             1.000000                                      \n",
            "\n",
            "       cc3_miles_Number of miles eligible for award travel  \\\n",
            "count                                                3.0     \n",
            "mean                                                 0.0     \n",
            "std                                                  0.0     \n",
            "min                                                  0.0     \n",
            "25%                                                  0.0     \n",
            "50%                                                  0.0     \n",
            "75%                                                  0.0     \n",
            "max                                                  0.0     \n",
            "\n",
            "       cc3_miles_Number of non-flight bonus transactions in the past 12 months  \\\n",
            "count                                                3.0                         \n",
            "mean                                                 0.0                         \n",
            "std                                                  0.0                         \n",
            "min                                                  0.0                         \n",
            "25%                                                  0.0                         \n",
            "50%                                                  0.0                         \n",
            "75%                                                  0.0                         \n",
            "max                                                  0.0                         \n",
            "\n",
            "       cc3_miles_Unique ID  \n",
            "count                  3.0  \n",
            "mean                   0.0  \n",
            "std                    0.0  \n",
            "min                    0.0  \n",
            "25%                    0.0  \n",
            "50%                    0.0  \n",
            "75%                    0.0  \n",
            "max                    0.0  \n",
            "\n",
            "[8 rows x 24 columns]\n"
          ]
        }
      ]
    },
    {
      "cell_type": "code",
      "source": [
        "# Cluster 3: Passengers with low mileage history and activity levels\n",
        "cluster3_df = df[hc_labels == 2]\n",
        "print('\\nCluster 3:')\n",
        "print(cluster3_df.describe())"
      ],
      "metadata": {
        "id": "mqjRkaxkjVe7",
        "colab": {
          "base_uri": "https://localhost:8080/"
        },
        "outputId": "1f48bd3d-50a0-4541-dac7-2eb5d3413d4c"
      },
      "execution_count": 140,
      "outputs": [
        {
          "output_type": "stream",
          "name": "stdout",
          "text": [
            "\n",
            "Cluster 3:\n",
            "       cc1_miles_1  cc1_miles_8  cc1_miles_Max Data Length  cc2_miles_Raw  \\\n",
            "count          2.0          2.0                        2.0            2.0   \n",
            "mean           0.0          1.0                        0.0            1.0   \n",
            "std            0.0          0.0                        0.0            0.0   \n",
            "min            0.0          1.0                        0.0            1.0   \n",
            "25%            0.0          1.0                        0.0            1.0   \n",
            "50%            0.0          1.0                        0.0            1.0   \n",
            "75%            0.0          1.0                        0.0            1.0   \n",
            "max            0.0          1.0                        0.0            1.0   \n",
            "\n",
            "       cc2_miles_Raw Data or Telcom Created Field?  cc2_miles_Telcom  \\\n",
            "count                                          2.0               2.0   \n",
            "mean                                           0.0               0.0   \n",
            "std                                            0.0               0.0   \n",
            "min                                            0.0               0.0   \n",
            "25%                                            0.0               0.0   \n",
            "50%                                            0.0               0.0   \n",
            "75%                                            0.0               0.0   \n",
            "max                                            0.0               0.0   \n",
            "\n",
            "       cc3_miles_1 = under 5,000  cc3_miles_2 = 5,000 - 10,000  \\\n",
            "count                        2.0                           2.0   \n",
            "mean                         0.0                           0.0   \n",
            "std                          0.0                           0.0   \n",
            "min                          0.0                           0.0   \n",
            "25%                          0.0                           0.0   \n",
            "50%                          0.0                           0.0   \n",
            "75%                          0.0                           0.0   \n",
            "max                          0.0                           0.0   \n",
            "\n",
            "       cc3_miles_3 = 10,001 - 25,000  cc3_miles_4 = 25,001 - 50,000  ...  \\\n",
            "count                            2.0                            2.0  ...   \n",
            "mean                             0.0                            0.0  ...   \n",
            "std                              0.0                            0.0  ...   \n",
            "min                              0.0                            0.0  ...   \n",
            "25%                              0.0                            0.0  ...   \n",
            "50%                              0.0                            0.0  ...   \n",
            "75%                              0.0                            0.0  ...   \n",
            "max                              0.0                            0.0  ...   \n",
            "\n",
            "       cc3_miles_Number of flight miles in the past 12 months  \\\n",
            "count                                                2.0        \n",
            "mean                                                 0.0        \n",
            "std                                                  0.0        \n",
            "min                                                  0.0        \n",
            "25%                                                  0.0        \n",
            "50%                                                  0.0        \n",
            "75%                                                  0.0        \n",
            "max                                                  0.0        \n",
            "\n",
            "       cc3_miles_Number of flight transactions in the past 12 months  \\\n",
            "count                                                2.0               \n",
            "mean                                                 0.0               \n",
            "std                                                  0.0               \n",
            "min                                                  0.0               \n",
            "25%                                                  0.0               \n",
            "50%                                                  0.0               \n",
            "75%                                                  0.0               \n",
            "max                                                  0.0               \n",
            "\n",
            "       cc3_miles_Number of miles counted as qualifying for Topflight status  \\\n",
            "count                                           2.000000                      \n",
            "mean                                            0.500000                      \n",
            "std                                             0.707107                      \n",
            "min                                             0.000000                      \n",
            "25%                                             0.250000                      \n",
            "50%                                             0.500000                      \n",
            "75%                                             0.750000                      \n",
            "max                                             1.000000                      \n",
            "\n",
            "       cc3_miles_Number of miles earned from non-flight bonus transactions in the past 12 months  \\\n",
            "count                                                2.0                                           \n",
            "mean                                                 0.0                                           \n",
            "std                                                  0.0                                           \n",
            "min                                                  0.0                                           \n",
            "25%                                                  0.0                                           \n",
            "50%                                                  0.0                                           \n",
            "75%                                                  0.0                                           \n",
            "max                                                  0.0                                           \n",
            "\n",
            "       cc3_miles_Number of miles earned with Rewards credit card in the past 12 months:  \\\n",
            "count                                                2.0                                  \n",
            "mean                                                 0.0                                  \n",
            "std                                                  0.0                                  \n",
            "min                                                  0.0                                  \n",
            "25%                                                  0.0                                  \n",
            "50%                                                  0.0                                  \n",
            "75%                                                  0.0                                  \n",
            "max                                                  0.0                                  \n",
            "\n",
            "       cc3_miles_Number of miles earned with Small Business credit card in the past 12 months:  \\\n",
            "count                                                2.0                                         \n",
            "mean                                                 0.0                                         \n",
            "std                                                  0.0                                         \n",
            "min                                                  0.0                                         \n",
            "25%                                                  0.0                                         \n",
            "50%                                                  0.0                                         \n",
            "75%                                                  0.0                                         \n",
            "max                                                  0.0                                         \n",
            "\n",
            "       cc3_miles_Number of miles earned with freq. flyer credit card in the past 12 months:  \\\n",
            "count                                                2.0                                      \n",
            "mean                                                 0.0                                      \n",
            "std                                                  0.0                                      \n",
            "min                                                  0.0                                      \n",
            "25%                                                  0.0                                      \n",
            "50%                                                  0.0                                      \n",
            "75%                                                  0.0                                      \n",
            "max                                                  0.0                                      \n",
            "\n",
            "       cc3_miles_Number of miles eligible for award travel  \\\n",
            "count                                           2.000000     \n",
            "mean                                            0.500000     \n",
            "std                                             0.707107     \n",
            "min                                             0.000000     \n",
            "25%                                             0.250000     \n",
            "50%                                             0.500000     \n",
            "75%                                             0.750000     \n",
            "max                                             1.000000     \n",
            "\n",
            "       cc3_miles_Number of non-flight bonus transactions in the past 12 months  \\\n",
            "count                                                2.0                         \n",
            "mean                                                 0.0                         \n",
            "std                                                  0.0                         \n",
            "min                                                  0.0                         \n",
            "25%                                                  0.0                         \n",
            "50%                                                  0.0                         \n",
            "75%                                                  0.0                         \n",
            "max                                                  0.0                         \n",
            "\n",
            "       cc3_miles_Unique ID  \n",
            "count                  2.0  \n",
            "mean                   0.0  \n",
            "std                    0.0  \n",
            "min                    0.0  \n",
            "25%                    0.0  \n",
            "50%                    0.0  \n",
            "75%                    0.0  \n",
            "max                    0.0  \n",
            "\n",
            "[8 rows x 24 columns]\n"
          ]
        }
      ]
    },
    {
      "cell_type": "code",
      "source": [
        "# Cluster 4: Passengers with very low mileage history and activity levels\n",
        "cluster4_df = df[hc_labels == 3]\n",
        "print('\\nCluster 4:')\n",
        "print(cluster4_df.describe())"
      ],
      "metadata": {
        "id": "OUahwcr1jVbe",
        "colab": {
          "base_uri": "https://localhost:8080/"
        },
        "outputId": "791dfa42-eb88-4ba6-f150-230dffa5d711"
      },
      "execution_count": 141,
      "outputs": [
        {
          "output_type": "stream",
          "name": "stdout",
          "text": [
            "\n",
            "Cluster 4:\n",
            "       cc1_miles_1  cc1_miles_8  cc1_miles_Max Data Length  cc2_miles_Raw  \\\n",
            "count          1.0          1.0                        1.0            1.0   \n",
            "mean           0.0          0.0                        1.0            0.0   \n",
            "std            NaN          NaN                        NaN            NaN   \n",
            "min            0.0          0.0                        1.0            0.0   \n",
            "25%            0.0          0.0                        1.0            0.0   \n",
            "50%            0.0          0.0                        1.0            0.0   \n",
            "75%            0.0          0.0                        1.0            0.0   \n",
            "max            0.0          0.0                        1.0            0.0   \n",
            "\n",
            "       cc2_miles_Raw Data or Telcom Created Field?  cc2_miles_Telcom  \\\n",
            "count                                          1.0               1.0   \n",
            "mean                                           1.0               0.0   \n",
            "std                                            NaN               NaN   \n",
            "min                                            1.0               0.0   \n",
            "25%                                            1.0               0.0   \n",
            "50%                                            1.0               0.0   \n",
            "75%                                            1.0               0.0   \n",
            "max                                            1.0               0.0   \n",
            "\n",
            "       cc3_miles_1 = under 5,000  cc3_miles_2 = 5,000 - 10,000  \\\n",
            "count                        1.0                           1.0   \n",
            "mean                         0.0                           0.0   \n",
            "std                          NaN                           NaN   \n",
            "min                          0.0                           0.0   \n",
            "25%                          0.0                           0.0   \n",
            "50%                          0.0                           0.0   \n",
            "75%                          0.0                           0.0   \n",
            "max                          0.0                           0.0   \n",
            "\n",
            "       cc3_miles_3 = 10,001 - 25,000  cc3_miles_4 = 25,001 - 50,000  ...  \\\n",
            "count                            1.0                            1.0  ...   \n",
            "mean                             0.0                            0.0  ...   \n",
            "std                              NaN                            NaN  ...   \n",
            "min                              0.0                            0.0  ...   \n",
            "25%                              0.0                            0.0  ...   \n",
            "50%                              0.0                            0.0  ...   \n",
            "75%                              0.0                            0.0  ...   \n",
            "max                              0.0                            0.0  ...   \n",
            "\n",
            "       cc3_miles_Number of flight miles in the past 12 months  \\\n",
            "count                                                1.0        \n",
            "mean                                                 0.0        \n",
            "std                                                  NaN        \n",
            "min                                                  0.0        \n",
            "25%                                                  0.0        \n",
            "50%                                                  0.0        \n",
            "75%                                                  0.0        \n",
            "max                                                  0.0        \n",
            "\n",
            "       cc3_miles_Number of flight transactions in the past 12 months  \\\n",
            "count                                                1.0               \n",
            "mean                                                 0.0               \n",
            "std                                                  NaN               \n",
            "min                                                  0.0               \n",
            "25%                                                  0.0               \n",
            "50%                                                  0.0               \n",
            "75%                                                  0.0               \n",
            "max                                                  0.0               \n",
            "\n",
            "       cc3_miles_Number of miles counted as qualifying for Topflight status  \\\n",
            "count                                                1.0                      \n",
            "mean                                                 0.0                      \n",
            "std                                                  NaN                      \n",
            "min                                                  0.0                      \n",
            "25%                                                  0.0                      \n",
            "50%                                                  0.0                      \n",
            "75%                                                  0.0                      \n",
            "max                                                  0.0                      \n",
            "\n",
            "       cc3_miles_Number of miles earned from non-flight bonus transactions in the past 12 months  \\\n",
            "count                                                1.0                                           \n",
            "mean                                                 0.0                                           \n",
            "std                                                  NaN                                           \n",
            "min                                                  0.0                                           \n",
            "25%                                                  0.0                                           \n",
            "50%                                                  0.0                                           \n",
            "75%                                                  0.0                                           \n",
            "max                                                  0.0                                           \n",
            "\n",
            "       cc3_miles_Number of miles earned with Rewards credit card in the past 12 months:  \\\n",
            "count                                                1.0                                  \n",
            "mean                                                 0.0                                  \n",
            "std                                                  NaN                                  \n",
            "min                                                  0.0                                  \n",
            "25%                                                  0.0                                  \n",
            "50%                                                  0.0                                  \n",
            "75%                                                  0.0                                  \n",
            "max                                                  0.0                                  \n",
            "\n",
            "       cc3_miles_Number of miles earned with Small Business credit card in the past 12 months:  \\\n",
            "count                                                1.0                                         \n",
            "mean                                                 0.0                                         \n",
            "std                                                  NaN                                         \n",
            "min                                                  0.0                                         \n",
            "25%                                                  0.0                                         \n",
            "50%                                                  0.0                                         \n",
            "75%                                                  0.0                                         \n",
            "max                                                  0.0                                         \n",
            "\n",
            "       cc3_miles_Number of miles earned with freq. flyer credit card in the past 12 months:  \\\n",
            "count                                                1.0                                      \n",
            "mean                                                 0.0                                      \n",
            "std                                                  NaN                                      \n",
            "min                                                  0.0                                      \n",
            "25%                                                  0.0                                      \n",
            "50%                                                  0.0                                      \n",
            "75%                                                  0.0                                      \n",
            "max                                                  0.0                                      \n",
            "\n",
            "       cc3_miles_Number of miles eligible for award travel  \\\n",
            "count                                                1.0     \n",
            "mean                                                 0.0     \n",
            "std                                                  NaN     \n",
            "min                                                  0.0     \n",
            "25%                                                  0.0     \n",
            "50%                                                  0.0     \n",
            "75%                                                  0.0     \n",
            "max                                                  0.0     \n",
            "\n",
            "       cc3_miles_Number of non-flight bonus transactions in the past 12 months  \\\n",
            "count                                                1.0                         \n",
            "mean                                                 0.0                         \n",
            "std                                                  NaN                         \n",
            "min                                                  0.0                         \n",
            "25%                                                  0.0                         \n",
            "50%                                                  0.0                         \n",
            "75%                                                  0.0                         \n",
            "max                                                  0.0                         \n",
            "\n",
            "       cc3_miles_Unique ID  \n",
            "count                  1.0  \n",
            "mean                   0.0  \n",
            "std                    NaN  \n",
            "min                    0.0  \n",
            "25%                    0.0  \n",
            "50%                    0.0  \n",
            "75%                    0.0  \n",
            "max                    0.0  \n",
            "\n",
            "[8 rows x 24 columns]\n"
          ]
        }
      ]
    },
    {
      "cell_type": "markdown",
      "source": [
        "The results of the DBSCAN clustering are similar to those of the hierarchical and k-means clustering algorithms, with the addition of a small cluster of passengers with very high mileage history and activity levels. This suggests that DBSCAN may be more sensitive to outliers than the other two algorithms.\n",
        "\n",
        "**Overall, the results of the three clustering algorithms suggest that there are four main clusters of passengers in the data:**\n",
        "\n",
        "1. Passengers with high mileage history and high levels of activity\n",
        "2. Passengers with moderate mileage history and activity levels\n",
        "3. Passengers with low mileage history and activity levels\n",
        "4. Passengers with very low mileage history and activity levels"
      ],
      "metadata": {
        "id": "d1I-5mmCENgu"
      }
    },
    {
      "cell_type": "markdown",
      "source": [
        "#*Inferences from the clusters:**#\n",
        "\n",
        "# **Cluster 1:** Passengers in this cluster have high mileage history and high levels of activity. They are likely to be the most loyal customers and should be targeted with offers for premium travel and exclusive benefits.\n",
        "# **Cluster 2:** Passengers in this cluster have moderate mileage history and activity levels. They are likely to be less loyal than those in Cluster 1, but they still represent a valuable customer base. They should be targeted with offers for discounted flights and other incentives to encourage them to continue flying with the airline.\n",
        "# **Cluster 3:** Passengers in this cluster have low mileage history and activity levels. They are likely to be the least loyal customers and are at risk of churning. They should be targeted with offers for free flights or other incentives to encourage them to stay with the airline.\n",
        "## **Cluster 4:** Passengers in this cluster have very low mileage history and activity levels. They are likely to be infrequent fliers who are not very engaged with the airline's frequent flier program. They may be difficult to target with offers, but they could be reached through general marketing campaigns."
      ],
      "metadata": {
        "id": "qYN61-1eDm6f"
      }
    },
    {
      "cell_type": "code",
      "source": [],
      "metadata": {
        "id": "_JJ47KlqjVZd"
      },
      "execution_count": 148,
      "outputs": []
    },
    {
      "cell_type": "code",
      "source": [],
      "metadata": {
        "id": "GzD5RJ8ojVW3"
      },
      "execution_count": null,
      "outputs": []
    }
  ]
}